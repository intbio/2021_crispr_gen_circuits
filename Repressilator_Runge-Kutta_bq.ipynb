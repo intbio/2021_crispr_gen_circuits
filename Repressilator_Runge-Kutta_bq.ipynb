{
 "cells": [
  {
   "cell_type": "code",
   "execution_count": 63,
   "metadata": {},
   "outputs": [],
   "source": [
    "from IPython.display import display\n",
    "import math\n",
    "'''import piplite\n",
    "await piplite.install(\"bqplot\")\n",
    "await piplite.install(\"ipywidgets\")'''\n",
    "import bqplot\n",
    "from bqplot import pyplot as plt\n",
    "import ipywidgets as widgets\n",
    "import numpy as np\n",
    "from scipy.integrate import solve_ivp"
   ]
  },
  {
   "cell_type": "code",
   "execution_count": 64,
   "metadata": {},
   "outputs": [],
   "source": [
    "#Variables\n",
    "\n",
    "n = 2 #Hill coefficient\n",
    "Km = 40 #monomeres per cell\n",
    "beta = 0.2\n",
    "alpha0 = 0.2164 \n",
    "alpha = 216.404\n",
    "tau_mRNA = 2\n",
    "tau_prot = 10\n",
    "kd_m = math.log(2)/tau_mRNA\n",
    "kd_p = math.log(2)/tau_prot\n",
    "k_tl = 6.93\n",
    "\n",
    "CmtetR0 = 1\n",
    "Cmlambda0 = 4\n",
    "CmlacI0 = 1\n",
    "CptetR0 = 2\n",
    "Cplambda0 = 1\n",
    "CplacI0 = 1"
   ]
  },
  {
   "cell_type": "code",
   "execution_count": 65,
   "metadata": {},
   "outputs": [],
   "source": [
    "#Calculating data for plots\n",
    "    \n",
    "def repressilator_model(t, data, alpha0, alpha, kd_m, kd_p, k_tl):\n",
    "    m = data[:3]\n",
    "    p = data[3:]\n",
    "    dm0 = - kd_m*m[0] + alpha*(Km**n)/((Km**n)+(p[2])**n) + alpha0\n",
    "    dm1 = - kd_m*m[1] + alpha*(Km**n)/((Km**n)+(p[0])**n) + alpha0\n",
    "    dm2 = - kd_m*m[2] + alpha*(Km**n)/((Km**n)+(p[1])**n) + alpha0\n",
    "    dp0 = - kd_p*p[0] + k_tl*m[0]\n",
    "    dp1 = - kd_p*p[1] + k_tl*m[1]\n",
    "    dp2 = - kd_p*p[2] + k_tl*m[2]\n",
    "    return [dm0,dm1,dm2,dp0,dp1,dp2]\n",
    "    \n",
    "t0 = 0.0\n",
    "tf = 1000.0\n",
    "time = np.linspace(0.0,1000.0,10000)\n",
    "initval = np.array([CmtetR0,Cmlambda0,CmlacI0,CptetR0,Cplambda0,CplacI0])\n",
    "res = solve_ivp(repressilator_model, (t0,tf), initval, method='RK45', t_eval=time, args=(alpha0,alpha,kd_m,kd_p,k_tl))\n",
    "res = dict(res)\n",
    "time = res['t']\n",
    "y = res['y']\n",
    "\n",
    "ylacI = y[5]\n",
    "ytetR = y[3]\n",
    "ylambda = y[4]\n",
    "\n",
    "fig = plt.figure(title=\"Repressilator model\", legend_location=\"top-left\")\n",
    "\n",
    "line_chart = plt.plot(x=time, y=[ylacI, ytetR, ylambda],\n",
    "                     labels=[\"LacI\",\"TetR\", \"cI\"], colors=['blue', 'green', 'red'],\n",
    "                     display_legend=True)\n",
    "\n",
    "plt.xlabel(\"Time, min\")\n",
    "plt.ylabel(\"Number of proteins\")"
   ]
  },
  {
   "cell_type": "code",
   "execution_count": 66,
   "metadata": {},
   "outputs": [],
   "source": [
    "#Callback\n",
    "def update_plot(tM, tP, k_tl, a, a0, CmlacI0, CmtetR0, CmcI0, CplacI0, CptetR0, CpcI0):\n",
    "    kd_m = math.log(2)/tM\n",
    "    kd_p = math.log(2)/tP\n",
    "    t0 = 0.0\n",
    "    tf = 1000.0\n",
    "    time = np.linspace(0.0,1000.0,10000)\n",
    "    initval = np.array([CmtetR0,CmcI0,CmlacI0,CptetR0,CpcI0,CplacI0])\n",
    "    res = solve_ivp(repressilator_model, (t0,tf), initval, method='RK45', t_eval=time, args=(a0,a,kd_m,kd_p,k_tl))\n",
    "    res = dict(res)\n",
    "    time = res['t']\n",
    "    y = res['y']\n",
    "    ylacI = y[5]\n",
    "    ytetR = y[3]\n",
    "    ylambda = y[4]\n",
    "    line_chart.y = [ylacI, ytetR, ylambda]"
   ]
  },
  {
   "cell_type": "code",
   "execution_count": 67,
   "metadata": {},
   "outputs": [],
   "source": [
    "#widgets\n",
    "wdj = widgets.interactive(update_plot, tM = widgets.FloatText(value=tau_mRNA, description=\"tau_mRNA:\", disabled=False),\n",
    "tP = widgets.FloatText(value=tau_prot, description=\"tau_prot:\", disabled=False),\n",
    "k_tl = widgets.FloatText(value=k_tl, description=\"k_tl:\", disabled=False),                          \n",
    "a = widgets.FloatText(value=alpha, description=\"alpha:\", disabled=False),\n",
    "a0 = widgets.FloatText(value=alpha0, description=\"alpha0:\", disabled=False),\n",
    "CmlacI0 = widgets.FloatText(value=CmlacI0, description=\"CmlacI0:\", disabled=False),\n",
    "CmtetR0 = widgets.FloatText(value=CmtetR0, description=\"CmtetR0:\", disabled=False),\n",
    "CmcI0 = widgets.FloatText(value=Cmlambda0, description=\"Cmlambda0:\", disabled=False),\n",
    "CplacI0 = widgets.FloatText(value=CplacI0, description=\"CplacI0:\", disabled=False),\n",
    "CptetR0 = widgets.FloatText(value=CptetR0, description=\"CptetR0:\", disabled=False),\n",
    "CpcI0 = widgets.FloatText(value=Cplambda0, description=\"Cplambda0:\", disabled=False))"
   ]
  },
  {
   "cell_type": "code",
   "execution_count": 70,
   "metadata": {},
   "outputs": [
    {
     "data": {
      "application/vnd.jupyter.widget-view+json": {
       "model_id": "2cb2e62c39cd44a9ae965452061ee8bc",
       "version_major": 2,
       "version_minor": 0
      },
      "text/plain": [
       "HBox(children=(Figure(axes=[Axis(label='Time, min', scale=LinearScale(), side='bottom'), Axis(label='Number of…"
      ]
     },
     "metadata": {},
     "output_type": "display_data"
    }
   ],
   "source": [
    "display(widgets.HBox([fig, wdj]))"
   ]
  }
 ],
 "metadata": {
  "kernelspec": {
   "display_name": "Python 3",
   "language": "python",
   "name": "python3"
  },
  "language_info": {
   "codemirror_mode": {
    "name": "ipython",
    "version": 3
   },
   "file_extension": ".py",
   "mimetype": "text/x-python",
   "name": "python",
   "nbconvert_exporter": "python",
   "pygments_lexer": "ipython3",
   "version": "3.8.5"
  }
 },
 "nbformat": 4,
 "nbformat_minor": 4
}
