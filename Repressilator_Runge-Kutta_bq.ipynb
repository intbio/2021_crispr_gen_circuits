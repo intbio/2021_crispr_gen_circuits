{
 "cells": [
  {
   "cell_type": "code",
   "execution_count": 2,
   "metadata": {},
   "outputs": [],
   "source": [
    "import math\n",
    "import bqplot\n",
    "from bqplot import pyplot as plt\n",
    "import ipywidgets as widgets\n",
    "import numpy as np\n",
    "from scipy.integrate import solve_ivp"
   ]
  },
  {
   "cell_type": "code",
   "execution_count": 3,
   "metadata": {},
   "outputs": [],
   "source": [
    "#Variables\n",
    "\n",
    "n = 2 #Hill coefficient\n",
    "Km = 40 #monomeres per cell\n",
    "beta = 0.2\n",
    "alpha0 = 0.2164 \n",
    "alpha = 216.404\n",
    "\n",
    "CmtetR0 = 1\n",
    "Cmlambda0 = 4\n",
    "CmlacI0 = 1\n",
    "CptetR0 = 2\n",
    "Cplambda0 = 1\n",
    "CplacI0 = 1"
   ]
  },
  {
   "cell_type": "code",
   "execution_count": 4,
   "metadata": {},
   "outputs": [],
   "source": [
    "#Calculating data for plots\n",
    "    \n",
    "def repressilator_model(t, data, alpha0, alpha, beta):\n",
    "    m = data[:3]\n",
    "    p = data[3:]\n",
    "    dm0 = - m[0] + alpha/(1+p[2]**n) + alpha0\n",
    "    dm1 = - m[1] + alpha/(1+p[0]**n) + alpha0\n",
    "    dm2 = - m[2] + alpha/(1+p[1]**n) + alpha0\n",
    "    dp0 = - beta*(p[0] - m[0])\n",
    "    dp1 = - beta*(p[1] - m[1])\n",
    "    dp2 = - beta*(p[2] - m[2])\n",
    "    return [dm0,dm1,dm2,dp0,dp1,dp2]\n",
    "    \n",
    "t0 = 0.0\n",
    "tf = 100.0\n",
    "time = np.linspace(0.0,100.0,1000)\n",
    "initval = np.array([CmtetR0,Cmlambda0,CmlacI0,CptetR0,Cplambda0,CplacI0])\n",
    "res = solve_ivp(repressilator_model, (t0,tf), initval, method='RK45', t_eval=time, args=(alpha0,alpha,beta))\n",
    "res = dict(res)\n",
    "time = res['t']\n",
    "y = res['y']\n",
    "\n",
    "ylacI = y[5]\n",
    "ytetR = y[3]\n",
    "ylambda = y[4]\n",
    "\n",
    "fig = plt.figure(title=\"Repressilator model\", legend_location=\"top-left\")\n",
    "\n",
    "line_chart = plt.plot(x=time, y=[ylacI, ytetR, ylambda],\n",
    "                     labels=[\"LacI\",\"TetR\", \"cI\"], colors=['blue', 'green', 'red'],\n",
    "                     display_legend=True)\n",
    "\n",
    "plt.xlabel(\"Time/mRNA half-life time\")\n",
    "plt.ylabel(\"Protein concentration, in units of Km\")"
   ]
  },
  {
   "cell_type": "code",
   "execution_count": 5,
   "metadata": {},
   "outputs": [],
   "source": [
    "#Callback\n",
    "def update_plot(b, a, a0, CmlacI0, CmtetR0, CmcI0, CplacI0, CptetR0, CpcI0):\n",
    "    t0 = 0.0\n",
    "    tf = 100.0\n",
    "    time = np.linspace(0.0,100.0,1000)\n",
    "    initval = np.array([CmtetR0,CmcI0,CmlacI0,CptetR0,CpcI0,CplacI0])\n",
    "    res = solve_ivp(repressilator_model, (t0,tf), initval, method='RK45', t_eval=time, args=(a0,a,b))\n",
    "    res = dict(res)\n",
    "    time = res['t']\n",
    "    y = res['y']\n",
    "    ylacI = y[5]\n",
    "    ytetR = y[3]\n",
    "    ylambda = y[4]\n",
    "    line_chart.y = [ylacI, ytetR, ylambda]"
   ]
  },
  {
   "cell_type": "code",
   "execution_count": 6,
   "metadata": {},
   "outputs": [],
   "source": [
    "#widgets\n",
    "wdj = widgets.interactive(update_plot, b = widgets.FloatText(value=beta, description=\"beta:\", disabled=False),\n",
    "a = widgets.FloatText(value=alpha, description=\"alpha:\", disabled=False),\n",
    "a0 = widgets.FloatText(value=alpha0, description=\"alpha0:\", disabled=False),\n",
    "CmlacI0 = widgets.FloatText(value=CmlacI0, description=\"CmlacI0:\", disabled=False),\n",
    "CmtetR0 = widgets.FloatText(value=CmtetR0, description=\"CmtetR0:\", disabled=False),\n",
    "CmcI0 = widgets.FloatText(value=Cmlambda0, description=\"Cmlambda0:\", disabled=False),\n",
    "CplacI0 = widgets.FloatText(value=CplacI0, description=\"CplacI0:\", disabled=False),\n",
    "CptetR0 = widgets.FloatText(value=CptetR0, description=\"CptetR0:\", disabled=False),\n",
    "CpcI0 = widgets.FloatText(value=Cplambda0, description=\"Cplambda0:\", disabled=False))"
   ]
  },
  {
   "cell_type": "code",
   "execution_count": 7,
   "metadata": {},
   "outputs": [
    {
     "data": {
      "application/vnd.jupyter.widget-view+json": {
       "model_id": "5bc7b604a2f34123827ea651b8fb8502",
       "version_major": 2,
       "version_minor": 0
      },
      "text/plain": [
       "HBox(children=(Figure(axes=[Axis(label='Time/mRNA half-life time', scale=LinearScale(), side='bottom'), Axis(l…"
      ]
     },
     "metadata": {},
     "output_type": "display_data"
    }
   ],
   "source": [
    "widgets.HBox([fig, wdj])"
   ]
  },
  {
   "cell_type": "code",
   "execution_count": null,
   "metadata": {},
   "outputs": [],
   "source": []
  }
 ],
 "metadata": {
  "kernelspec": {
   "display_name": "Python 3",
   "language": "python",
   "name": "python3"
  },
  "language_info": {
   "codemirror_mode": {
    "name": "ipython",
    "version": 3
   },
   "file_extension": ".py",
   "mimetype": "text/x-python",
   "name": "python",
   "nbconvert_exporter": "python",
   "pygments_lexer": "ipython3",
   "version": "3.8.5"
  }
 },
 "nbformat": 4,
 "nbformat_minor": 4
}
